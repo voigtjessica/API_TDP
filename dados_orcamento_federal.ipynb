{
  "nbformat": 4,
  "nbformat_minor": 0,
  "metadata": {
    "colab": {
      "name": "dados-orcamento-federal.ipynb",
      "provenance": [],
      "collapsed_sections": [],
      "include_colab_link": true
    },
    "kernelspec": {
      "name": "python3",
      "display_name": "Python 3"
    }
  },
  "cells": [
    {
      "cell_type": "markdown",
      "metadata": {
        "id": "view-in-github",
        "colab_type": "text"
      },
      "source": [
        "<a href=\"https://colab.research.google.com/github/voigtjessica/API_TDP/blob/master/dados_orcamento_federal.ipynb\" target=\"_parent\"><img src=\"https://colab.research.google.com/assets/colab-badge.svg\" alt=\"Open In Colab\"/></a>"
      ]
    },
    {
      "cell_type": "code",
      "metadata": {
        "id": "RBuiNE8_2Deb",
        "colab_type": "code",
        "colab": {}
      },
      "source": [
        "import pandas as pd\n",
        "import requests\n",
        "import json\n",
        "import numpy as np\n",
        "import re"
      ],
      "execution_count": 0,
      "outputs": []
    },
    {
      "cell_type": "markdown",
      "metadata": {
        "id": "CyPRqmc63Wl7",
        "colab_type": "text"
      },
      "source": [
        "Fazendo uma consulta a API do orçamento: qual foi a despesa do ano de 2019 do FNDE?"
      ]
    },
    {
      "cell_type": "code",
      "metadata": {
        "id": "hq2oAUnI3dVk",
        "colab_type": "code",
        "colab": {}
      },
      "source": [
        "serie_2019 = requests.get('http://www.transparencia.gov.br/api-de-dados/despesas/por-orgao?ano=2019&orgaoSuperior=26000&orgao=26298&pagina=1', verify=True).json()\n",
        "df_serie_2019 = pd.DataFrame(serie_2019)"
      ],
      "execution_count": 0,
      "outputs": []
    },
    {
      "cell_type": "markdown",
      "metadata": {
        "id": "8wO1jQCH6Aj2",
        "colab_type": "text"
      },
      "source": [
        "Uma tabelinha"
      ]
    },
    {
      "cell_type": "code",
      "metadata": {
        "id": "6yAiu1Fu6B9s",
        "colab_type": "code",
        "outputId": "c6559b07-739a-49a9-d34c-e057d7045e81",
        "colab": {
          "base_uri": "https://localhost:8080/",
          "height": 80
        }
      },
      "source": [
        "df_serie_2019"
      ],
      "execution_count": 0,
      "outputs": [
        {
          "output_type": "execute_result",
          "data": {
            "text/html": [
              "<div>\n",
              "<style scoped>\n",
              "    .dataframe tbody tr th:only-of-type {\n",
              "        vertical-align: middle;\n",
              "    }\n",
              "\n",
              "    .dataframe tbody tr th {\n",
              "        vertical-align: top;\n",
              "    }\n",
              "\n",
              "    .dataframe thead th {\n",
              "        text-align: right;\n",
              "    }\n",
              "</style>\n",
              "<table border=\"1\" class=\"dataframe\">\n",
              "  <thead>\n",
              "    <tr style=\"text-align: right;\">\n",
              "      <th></th>\n",
              "      <th>ano</th>\n",
              "      <th>orgao</th>\n",
              "      <th>codigoOrgao</th>\n",
              "      <th>orgaoSuperior</th>\n",
              "      <th>codigoOrgaoSuperior</th>\n",
              "      <th>empenhado</th>\n",
              "      <th>liquidado</th>\n",
              "      <th>pago</th>\n",
              "    </tr>\n",
              "  </thead>\n",
              "  <tbody>\n",
              "    <tr>\n",
              "      <th>0</th>\n",
              "      <td>2019</td>\n",
              "      <td>Fundo Nacional de Desenvolvimento da Educação</td>\n",
              "      <td>26298</td>\n",
              "      <td>Ministério da Educação</td>\n",
              "      <td>26000</td>\n",
              "      <td>48.465.656.044,37</td>\n",
              "      <td>36.142.553.729,39</td>\n",
              "      <td>36.128.565.633,98</td>\n",
              "    </tr>\n",
              "  </tbody>\n",
              "</table>\n",
              "</div>"
            ],
            "text/plain": [
              "    ano  ...               pago\n",
              "0  2019  ...  36.128.565.633,98\n",
              "\n",
              "[1 rows x 8 columns]"
            ]
          },
          "metadata": {
            "tags": []
          },
          "execution_count": 82
        }
      ]
    },
    {
      "cell_type": "markdown",
      "metadata": {
        "id": "UDWc2gmW6i8_",
        "colab_type": "text"
      },
      "source": [
        "Se eu quero olhar a eficiência de um órgão, eu devo olhar para a etapa liquidado, que é equivalente ao que foi, de fato, executado.\n",
        "Total liquidado do que foi empenhado do FNDE:"
      ]
    },
    {
      "cell_type": "code",
      "metadata": {
        "id": "n3FqEcpx8-1k",
        "colab_type": "code",
        "colab": {}
      },
      "source": [
        "print(df_serie_2019.dtypes)"
      ],
      "execution_count": 0,
      "outputs": []
    },
    {
      "cell_type": "markdown",
      "metadata": {
        "id": "imtUKsKr-Ay4",
        "colab_type": "text"
      },
      "source": [
        "Preciso retirar os pontos e virgulas para transformar meus campos de despesa em numeros. Vou fazer isso em todas as colunas, já que não tem prejuízo em outras colunas."
      ]
    },
    {
      "cell_type": "code",
      "metadata": {
        "id": "kjg38lWj23PE",
        "colab_type": "code",
        "outputId": "e4be4f3e-ba3f-4134-c4e4-743706c774a5",
        "colab": {
          "base_uri": "https://localhost:8080/",
          "height": 80
        }
      },
      "source": [
        "df_serie_2019 = df_serie_2019.replace({'\\.':'', ',':'.'},  regex=True)\n",
        "df_serie_2019"
      ],
      "execution_count": 96,
      "outputs": [
        {
          "output_type": "execute_result",
          "data": {
            "text/html": [
              "<div>\n",
              "<style scoped>\n",
              "    .dataframe tbody tr th:only-of-type {\n",
              "        vertical-align: middle;\n",
              "    }\n",
              "\n",
              "    .dataframe tbody tr th {\n",
              "        vertical-align: top;\n",
              "    }\n",
              "\n",
              "    .dataframe thead th {\n",
              "        text-align: right;\n",
              "    }\n",
              "</style>\n",
              "<table border=\"1\" class=\"dataframe\">\n",
              "  <thead>\n",
              "    <tr style=\"text-align: right;\">\n",
              "      <th></th>\n",
              "      <th>ano</th>\n",
              "      <th>orgao</th>\n",
              "      <th>codigoOrgao</th>\n",
              "      <th>orgaoSuperior</th>\n",
              "      <th>codigoOrgaoSuperior</th>\n",
              "      <th>empenhado</th>\n",
              "      <th>liquidado</th>\n",
              "      <th>pago</th>\n",
              "    </tr>\n",
              "  </thead>\n",
              "  <tbody>\n",
              "    <tr>\n",
              "      <th>0</th>\n",
              "      <td>2019</td>\n",
              "      <td>Fundo Nacional de Desenvolvimento da Educação</td>\n",
              "      <td>26298</td>\n",
              "      <td>Ministério da Educação</td>\n",
              "      <td>26000</td>\n",
              "      <td>48465656044.37</td>\n",
              "      <td>36142553729.39</td>\n",
              "      <td>36128565633.98</td>\n",
              "    </tr>\n",
              "  </tbody>\n",
              "</table>\n",
              "</div>"
            ],
            "text/plain": [
              "    ano  ...            pago\n",
              "0  2019  ...  36128565633.98\n",
              "\n",
              "[1 rows x 8 columns]"
            ]
          },
          "metadata": {
            "tags": []
          },
          "execution_count": 96
        }
      ]
    },
    {
      "cell_type": "markdown",
      "metadata": {
        "id": "7g20aqi08cq3",
        "colab_type": "text"
      },
      "source": [
        "Eu tenho que colocar regex = TRUE senão ele não me entende.\n",
        "\n",
        "Agora, se eu quisesse fazer uma operação de cada vez:"
      ]
    },
    {
      "cell_type": "code",
      "metadata": {
        "id": "sO68P0QL-GPw",
        "colab_type": "code",
        "colab": {}
      },
      "source": [
        "#df_serie_2019 = df_serie_2019.replace('\\.', '', regex=True)\n",
        "#df_serie_2019 = df_serie_2019.replace(',', '.', regex=True)\n",
        "#df_serie_2019\n"
      ],
      "execution_count": 0,
      "outputs": []
    },
    {
      "cell_type": "markdown",
      "metadata": {
        "id": "OVoFF3I01bU2",
        "colab_type": "text"
      },
      "source": [
        "Se eu quisesse mudar apenas o empenhado"
      ]
    },
    {
      "cell_type": "code",
      "metadata": {
        "id": "5kNUELMevxRx",
        "colab_type": "code",
        "colab": {}
      },
      "source": [
        "#df_serie_2019 = df_serie_2019.replace({'empenhado': '\\.'}, {'empenhado': ''}, regex=True)\n",
        "#df_serie_2019 = df_serie_2019.replace({'empenhado': ','}, {'empenhado': '.'}, regex=True)\n",
        "#df_serie_2019 "
      ],
      "execution_count": 0,
      "outputs": []
    },
    {
      "cell_type": "markdown",
      "metadata": {
        "id": "HCFCMriR8lnm",
        "colab_type": "text"
      },
      "source": [
        "Se eu quisesse mudar o liquidado, substituindo de uma só vez os pontos e vírgulas:"
      ]
    },
    {
      "cell_type": "code",
      "metadata": {
        "id": "erYKTI998vtO",
        "colab_type": "code",
        "colab": {}
      },
      "source": [
        "# df_serie_2019.replace(\n",
        "#     to_replace={'liquidado': ['\\.', ',']} , \n",
        "#     value={'liquidado': ['', '.']} , \n",
        "#     regex=True, inplace=True )\n",
        "# df_serie_2019"
      ],
      "execution_count": 0,
      "outputs": []
    },
    {
      "cell_type": "markdown",
      "metadata": {
        "id": "G0MRk0mF-yCi",
        "colab_type": "text"
      },
      "source": [
        "O inplace = TRUE significa que eu já estou sobrescrevendo os meus dados. Ou seja, eu náo preciso atribuir no começo\n",
        "Ok, agora eu quero mudar o type das minhas colunas relacionadas à despesa"
      ]
    },
    {
      "cell_type": "code",
      "metadata": {
        "id": "-8QdMveZ-7HP",
        "colab_type": "code",
        "colab": {
          "base_uri": "https://localhost:8080/",
          "height": 80
        },
        "outputId": "d6e60ec5-52b7-4782-9100-c0b074a4f99c"
      },
      "source": [
        "df_serie_2019['empenhado'] = df_serie_2019.empenhado.astype('float64')\n",
        "df_serie_2019['liquidado'] = df_serie_2019.liquidado.astype('float64')\n",
        "df_serie_2019['pago'] = df_serie_2019.pago.astype('float64')\n",
        "\n",
        "df_serie_2019"
      ],
      "execution_count": 100,
      "outputs": [
        {
          "output_type": "execute_result",
          "data": {
            "text/html": [
              "<div>\n",
              "<style scoped>\n",
              "    .dataframe tbody tr th:only-of-type {\n",
              "        vertical-align: middle;\n",
              "    }\n",
              "\n",
              "    .dataframe tbody tr th {\n",
              "        vertical-align: top;\n",
              "    }\n",
              "\n",
              "    .dataframe thead th {\n",
              "        text-align: right;\n",
              "    }\n",
              "</style>\n",
              "<table border=\"1\" class=\"dataframe\">\n",
              "  <thead>\n",
              "    <tr style=\"text-align: right;\">\n",
              "      <th></th>\n",
              "      <th>ano</th>\n",
              "      <th>orgao</th>\n",
              "      <th>codigoOrgao</th>\n",
              "      <th>orgaoSuperior</th>\n",
              "      <th>codigoOrgaoSuperior</th>\n",
              "      <th>empenhado</th>\n",
              "      <th>liquidado</th>\n",
              "      <th>pago</th>\n",
              "    </tr>\n",
              "  </thead>\n",
              "  <tbody>\n",
              "    <tr>\n",
              "      <th>0</th>\n",
              "      <td>2019</td>\n",
              "      <td>Fundo Nacional de Desenvolvimento da Educação</td>\n",
              "      <td>26298</td>\n",
              "      <td>Ministério da Educação</td>\n",
              "      <td>26000</td>\n",
              "      <td>4.846566e+10</td>\n",
              "      <td>3.614255e+10</td>\n",
              "      <td>3.612857e+10</td>\n",
              "    </tr>\n",
              "  </tbody>\n",
              "</table>\n",
              "</div>"
            ],
            "text/plain": [
              "    ano  ...          pago\n",
              "0  2019  ...  3.612857e+10\n",
              "\n",
              "[1 rows x 8 columns]"
            ]
          },
          "metadata": {
            "tags": []
          },
          "execution_count": 100
        }
      ]
    },
    {
      "cell_type": "markdown",
      "metadata": {
        "id": "4joJaPP5DWPc",
        "colab_type": "text"
      },
      "source": [
        "Calculando quando da despesa empenhada foi liquidada, o que me indica a capacidade de planejamento do governo federal"
      ]
    },
    {
      "cell_type": "code",
      "metadata": {
        "id": "21VQIMbLDVXu",
        "colab_type": "code",
        "colab": {
          "base_uri": "https://localhost:8080/",
          "height": 51
        },
        "outputId": "f1133b87-6663-4bb0-b507-104bf4358b7f"
      },
      "source": [
        "df_serie_2019.liquidado/df_serie_2019.empenhado"
      ],
      "execution_count": 102,
      "outputs": [
        {
          "output_type": "execute_result",
          "data": {
            "text/plain": [
              "0    0.745735\n",
              "dtype: float64"
            ]
          },
          "metadata": {
            "tags": []
          },
          "execution_count": 102
        }
      ]
    }
  ]
}